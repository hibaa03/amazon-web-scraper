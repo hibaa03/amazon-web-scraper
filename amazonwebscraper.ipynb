{
 "cells": [
  {
   "cell_type": "code",
   "execution_count": 77,
   "id": "67e223f0-37e4-44d9-8c20-3afd83148381",
   "metadata": {},
   "outputs": [],
   "source": [
    "# import libraries \n",
    "import csv\n",
    "from bs4 import BeautifulSoup"
   ]
  },
  {
   "cell_type": "code",
   "execution_count": 78,
   "id": "bc6899c6-25be-459f-b2a0-07827f366d5b",
   "metadata": {},
   "outputs": [],
   "source": [
    "from selenium import webdriver"
   ]
  },
  {
   "cell_type": "code",
   "execution_count": 79,
   "id": "fbdbc2b1-3dd0-4a4f-a859-8bb4b80d8668",
   "metadata": {},
   "outputs": [],
   "source": [
    "driver = webdriver.Chrome()"
   ]
  },
  {
   "cell_type": "code",
   "execution_count": 80,
   "id": "ce76ee52-401f-470f-bf7e-2d4955af553f",
   "metadata": {},
   "outputs": [],
   "source": [
    "url = 'https://www.amazon.com'\n",
    "driver.get(url)"
   ]
  },
  {
   "cell_type": "code",
   "execution_count": 81,
   "id": "8938fe1b-4926-46f0-b5d5-b16b481b2020",
   "metadata": {},
   "outputs": [],
   "source": [
    "def get_url(search_term) :\n",
    "    \"\"\"Generate a url from seanch term\"\"\"\n",
    "    template = 'https://www.amazon.com/s?k={}&ref=nb_sb_noss_1'\n",
    "    search_term = search_term. replace(' ', '+')\n",
    "    return template.format(search_term)"
   ]
  },
  {
   "cell_type": "code",
   "execution_count": 82,
   "id": "3034aa4f-207c-4545-ba69-61c558c54e5b",
   "metadata": {},
   "outputs": [
    {
     "name": "stdout",
     "output_type": "stream",
     "text": [
      "https://www.amazon.com/s?k=ultrawide+monitor&ref=nb_sb_noss_1\n"
     ]
    }
   ],
   "source": [
    "url = get_url('ultrawide monitor')\n",
    "print(url)"
   ]
  },
  {
   "cell_type": "code",
   "execution_count": 83,
   "id": "ff6a1915-2454-4d92-b2ce-c7043f94a3d6",
   "metadata": {},
   "outputs": [],
   "source": [
    "driver.get(url)"
   ]
  },
  {
   "cell_type": "code",
   "execution_count": 84,
   "id": "1379d451-2983-4df4-b8a0-41e8460ba286",
   "metadata": {},
   "outputs": [],
   "source": [
    "# extraction\n",
    "soup = BeautifulSoup(driver.page_source, 'html.parser')"
   ]
  },
  {
   "cell_type": "code",
   "execution_count": 85,
   "id": "9831c0f3-827f-484b-bc03-e50931cb994a",
   "metadata": {},
   "outputs": [],
   "source": [
    "results = soup.find_all('div', {'data-component-type': 's-search-result'})"
   ]
  },
  {
   "cell_type": "code",
   "execution_count": 86,
   "id": "1f48f763-b8cf-4ff0-ab3e-03ff1ba7e613",
   "metadata": {},
   "outputs": [
    {
     "data": {
      "text/plain": [
       "22"
      ]
     },
     "execution_count": 86,
     "metadata": {},
     "output_type": "execute_result"
    }
   ],
   "source": [
    "len(results)"
   ]
  },
  {
   "cell_type": "code",
   "execution_count": 87,
   "id": "00a807ec-1bc4-44e3-ab4a-4811237cb76d",
   "metadata": {},
   "outputs": [],
   "source": [
    "# prototype\n",
    "item = results[0]"
   ]
  },
  {
   "cell_type": "code",
   "execution_count": 88,
   "id": "61d7fee2-3d11-4ec5-be30-686c1c064254",
   "metadata": {},
   "outputs": [],
   "source": [
    "atag = item.h2.a"
   ]
  },
  {
   "cell_type": "code",
   "execution_count": 89,
   "id": "48dabb30-617c-470f-8444-d2350af95e27",
   "metadata": {},
   "outputs": [],
   "source": [
    "description = atag.text.strip()"
   ]
  },
  {
   "cell_type": "code",
   "execution_count": 90,
   "id": "16ad81f2-3721-4fe2-b8eb-599c959e27ff",
   "metadata": {},
   "outputs": [],
   "source": [
    "url = 'https://amazon.com'+ atag.get('href')"
   ]
  },
  {
   "cell_type": "code",
   "execution_count": 91,
   "id": "c726b38a-236f-45c1-864b-87be391aa87e",
   "metadata": {},
   "outputs": [],
   "source": [
    "price_parent = item.find('span', 'a-price')"
   ]
  },
  {
   "cell_type": "code",
   "execution_count": 92,
   "id": "52907cf6-fb5c-43d6-b32f-34d9dd1ba294",
   "metadata": {},
   "outputs": [],
   "source": [
    "price = price_parent.find('span', 'a-offscreen')"
   ]
  },
  {
   "cell_type": "code",
   "execution_count": 93,
   "id": "c8810f0b-5e60-4fdd-988b-388c2e204bdf",
   "metadata": {},
   "outputs": [],
   "source": [
    "rating = item.i.text"
   ]
  },
  {
   "cell_type": "code",
   "execution_count": 94,
   "id": "418216e4-09d8-47b0-a8fd-241f9189f214",
   "metadata": {},
   "outputs": [],
   "source": [
    "review_count = item.find('span', {'class': 'a-size-base', 'dir': 'auto'})"
   ]
  },
  {
   "cell_type": "code",
   "execution_count": 108,
   "id": "5aaaeb2f-af85-428d-8b08-32629c8c6282",
   "metadata": {},
   "outputs": [],
   "source": [
    "# generalise pattern\n",
    "def extract_record(item):\n",
    "    \"\"\"Extract and return data from a single record\"\"\"\n",
    "    # description and url\n",
    "    atag = item. h2.a\n",
    "    description = atag.text.strip\n",
    "    url ='https://www.amazon.com' + atag.get('href')\n",
    "    # price\n",
    "    price_parent = item.find('span', 'a-price')\n",
    "    price = price_parent.find('span', 'a-offscreen')\n",
    "    # rank and rating\n",
    "    rating = item.i.text\n",
    "    review_count = item.find('span', {'class':'a-size-base','dir': 'auto'})\n",
    "    result = (description,price,rating,review_count,url)\n",
    "    return result"
   ]
  },
  {
   "cell_type": "code",
   "execution_count": 109,
   "id": "066a2e9e-a2b8-469f-b56f-fd00c62da8ad",
   "metadata": {},
   "outputs": [],
   "source": [
    "records = []\n",
    "results = soup.find_all('div', {'data-component-type': 's-search-result'})\n",
    "\n",
    "for item in results:\n",
    "    records.append(extract_record(item))\n",
    "\n"
   ]
  },
  {
   "cell_type": "code",
   "execution_count": 110,
   "id": "3e2738ca-f14a-46cc-8cf2-0af8ba2738aa",
   "metadata": {},
   "outputs": [],
   "source": [
    "# error handling\n",
    "def extract_record(item) :\n",
    "    \"\"\"Extract and return data from a single record\"\"\"\n",
    "    # descrantion and url\n",
    "    atag = item.h2.a\n",
    "    description = atag.text.strip()\n",
    "    url = 'https://www.amazon.com' + atag.get('href')\n",
    "    try:\n",
    "        # price\n",
    "        price_parent = item. find('span', 'a-price')\n",
    "        price = price_parent. find('span', 'a-offscreen' ).text\n",
    "    except AttributeError:\n",
    "        return\n",
    "    try:\n",
    "        # rank and rating\n",
    "        rating = item.i.text\n",
    "        review_count = item.find('span', {'class': 'a-size-base', 'dir': 'auto'}).text\n",
    "    except AttributeError:\n",
    "        rating = ''\n",
    "        review_count = ''\n",
    "    result = (description, price, rating, review_count, url)\n",
    "    return result"
   ]
  },
  {
   "cell_type": "code",
   "execution_count": 111,
   "id": "ee568065-512b-412e-8bc0-7a66f08afc41",
   "metadata": {},
   "outputs": [],
   "source": [
    "records = []\n",
    "results = soup. find_all('div', {'data-component-type': 's-search-result'})\n",
    "for item in results:\n",
    "    record = extract_record(item)\n",
    "    if record:\n",
    "        records.append(record)"
   ]
  },
  {
   "cell_type": "code",
   "execution_count": 112,
   "id": "f7d0c7aa-56e6-463d-b5c8-9a99171edcad",
   "metadata": {},
   "outputs": [
    {
     "data": {
      "text/plain": [
       "('SAMSUNG 32\" Odyssey Neo G7 4K UHD 165Hz 1ms G-Sync 1000R Curved Gaming Monitor, Quantum HDR2000, AMD FreeSync Premium Pro, Ultrawide Game View, DisplayPort, HDMI, Height Adjustable Stand, Black, 2022',\n",
       " '$899.99',\n",
       " '',\n",
       " '',\n",
       " 'https://www.amazon.com/sspa/click?ie=UTF8&spc=MTo3MzI3NzY0MTQ5NjI3NjI1OjE2OTUwNzM2MzM6c3BfYXRmOjIwMDA4NjQ1ODUxNTE5ODo6MDo6&url=%2FSAMSUNG-FreeSync-Ultrawide-DisplayPort-Adjustable%2Fdp%2FB09ZH1Q6TT%2Fref%3Dsr_1_1_sspa%3Fkeywords%3Dultrawide%2Bmonitor%26qid%3D1695073633%26sr%3D8-1-spons%26sp_csd%3Dd2lkZ2V0TmFtZT1zcF9hdGY%26psc%3D1')"
      ]
     },
     "execution_count": 112,
     "metadata": {},
     "output_type": "execute_result"
    }
   ],
   "source": [
    "records[0]"
   ]
  },
  {
   "cell_type": "code",
   "execution_count": 113,
   "id": "1263ac00-ef25-4962-98f3-9a468bfbe4f8",
   "metadata": {},
   "outputs": [
    {
     "name": "stdout",
     "output_type": "stream",
     "text": [
      "('SAMSUNG 32\" Odyssey Neo G7 4K UHD 165Hz 1ms G-Sync 1000R Curved Gaming Monitor, Quantum HDR2000, AMD FreeSync Premium Pro, Ultrawide Game View, DisplayPort, HDMI, Height Adjustable Stand, Black, 2022', '$899.99', '', '', 'https://www.amazon.com/sspa/click?ie=UTF8&spc=MTo3MzI3NzY0MTQ5NjI3NjI1OjE2OTUwNzM2MzM6c3BfYXRmOjIwMDA4NjQ1ODUxNTE5ODo6MDo6&url=%2FSAMSUNG-FreeSync-Ultrawide-DisplayPort-Adjustable%2Fdp%2FB09ZH1Q6TT%2Fref%3Dsr_1_1_sspa%3Fkeywords%3Dultrawide%2Bmonitor%26qid%3D1695073633%26sr%3D8-1-spons%26sp_csd%3Dd2lkZ2V0TmFtZT1zcF9hdGY%26psc%3D1')\n",
      "('ViewSonic OMNI VX3418-2KPC 34 Inch Ultrawide Curved 1440p 1ms 144Hz Gaming Monitor with Adaptive Sync, Eye Care, HDMI and Display Port, Black', '$379.99', '', '', 'https://www.amazon.com/sspa/click?ie=UTF8&spc=MTo3MzI3NzY0MTQ5NjI3NjI1OjE2OTUwNzM2MzM6c3BfYXRmOjIwMDA5MzAxNzc5ODY5ODo6MDo6&url=%2FViewSonic-VX3418-2KPC-Inch-UltraWide-Adaptive-Sync%2Fdp%2FB08ZT31QCN%2Fref%3Dsr_1_2_sspa%3Fkeywords%3Dultrawide%2Bmonitor%26qid%3D1695073633%26sr%3D8-2-spons%26sp_csd%3Dd2lkZ2V0TmFtZT1zcF9hdGY%26psc%3D1')\n",
      "('SAMSUNG 34-Inch Odyssey G5 Ultra-Wide Gaming Monitor with 1000R Curved Screen, 165Hz, 1ms, FreeSync Premium, WQHD (LC34G55TWWNXZA, 2020 Model), Black', '$399.99', '', '', 'https://www.amazon.com/SAMSUNG-34-Inch-Ultra-Wide-FreeSync-LC34G55TWWNXZA/dp/B08MVBYWGQ/ref=sr_1_3?keywords=ultrawide+monitor&qid=1695073633&sr=8-3')\n",
      "('LG UltraWide FHD 29-Inch Computer Monitor 29WQ600-W, IPS with HDR 10 Compatibility, AMD FreeSync, and USB Type-C, White', '$249.99', '', '', 'https://www.amazon.com/LG-29WQ600-W-29-Inch-UltraWide-Borderless/dp/B09ZYTFX33/ref=sr_1_4?keywords=ultrawide+monitor&qid=1695073633&sr=8-4')\n",
      "('LG UltraWide QHD 34-Inch Computer Monitor 34WP65C-B, VA with HDR 10 Compatibility and AMD FreeSync Premium, Black', '$399.99', '', '', 'https://www.amazon.com/LG-34WP65C-B-34-Inch-Borderless-Adjustable/dp/B093TB6HZH/ref=sr_1_5?keywords=ultrawide+monitor&qid=1695073633&sr=8-5')\n",
      "('LG UltraGear QHD 34-Inch Curved Gaming Monitor 34GP63A-B, VA with HDR 10 Compatibility and AMD FreeSync Premium, 160Hz, Black', '$361.15', '', '', 'https://www.amazon.com/LG-UltraGear-34GP63A-B-Compatibility-FreeSync/dp/B0B928B6BC/ref=sr_1_6?keywords=ultrawide+monitor&qid=1695073633&sr=8-6')\n",
      "('Dell Dual Monitor Arm - MDA20,Black', '$295.99', '', '', 'https://www.amazon.com/sspa/click?ie=UTF8&spc=MTo3MzI3NzY0MTQ5NjI3NjI1OjE2OTUwNzM2MzM6c3BfbXRmOjMwMDA0MTU5NTA1NDIwMjo6MDo6&url=%2FDell-Dual-Monitor-Arm-MDA20%2Fdp%2FB0BSPM5BVM%2Fref%3Dsr_1_7_sspa%3Fkeywords%3Dultrawide%2Bmonitor%26qid%3D1695073633%26sr%3D8-7-spons%26sp_csd%3Dd2lkZ2V0TmFtZT1zcF9tdGY%26psc%3D1')\n",
      "('Sceptre 30-inch Curved Gaming Monitor 21:9 2560x1080 Ultra Wide/ Slim HDMI DisplayPort up to 200Hz Build-in Speakers, Metal Black (C305B-200UN1)', '$219.97', '', '', 'https://www.amazon.com/Sceptre-30-inch-Curved-Gaming-Monitor/dp/B07TXM7K4T/ref=sr_1_8?keywords=ultrawide+monitor&qid=1695073633&sr=8-8')\n",
      "('Sceptre 34-Inch Curved Ultrawide WQHD Monitor 3440 x 1440 R1500 up to 165Hz DisplayPort x2 99% sRGB 1ms Picture by Picture, Machine Black 2023 (C345B-QUT168)', '$279.97', '', '', 'https://www.amazon.com/Sceptre-34-Inch-Ultrawide-DisplayPort-C345B-QUT168/dp/B0BTK1C533/ref=sr_1_9?keywords=ultrawide+monitor&qid=1695073633&sr=8-9')\n",
      "('GIGABYTE G34WQC A 34\" 144Hz Ultra-Wide Curved Gaming Monitor, 3440 x 1440 VA 1500R , 1ms (MPRT) Response Time, 90% DCI-P3, VESA Display HDR400, FreeSync Premium, BLACK (G34WQC A-SA)', '$359.99', '', '', 'https://www.amazon.com/GIGABYTE-G34WQC-Ultra-Wide-Response-FreeSync/dp/B09JBLHBWJ/ref=sr_1_10?keywords=ultrawide+monitor&qid=1695073633&sr=8-10')\n",
      "('LG 38WQ88C-W 38 Inch Curved 21:9 UltraWide QHD+ (3840 x 1600) IPS Monitor, DCI-P3 95% Color Gamut, HDR10, USB Type-C, AMD FreeSync, Built in Speakers, Ergo Stand (Extend/Retract/Swivel/Height/Tilt)', '$1,396.99', '', '', 'https://www.amazon.com/LG-38WQ88C-W-Inch-Curved-UltraWide/dp/B09V6S4ML2/ref=sr_1_11?keywords=ultrawide+monitor&qid=1695073633&sr=8-11')\n",
      "('ViewSonic VA3456-MHDJ 34 Inch 21:9 UltraWide WQHD 1440p IPS Monitor with Ultra-Thin Bezels, Ergonomics Design, HDMI, and DisplayPort Inputs for Home and Office,Black', '$329.99', '', '', 'https://www.amazon.com/sspa/click?ie=UTF8&spc=MTo3MzI3NzY0MTQ5NjI3NjI1OjE2OTUwNzM2MzM6c3BfbXRmOjIwMDExMDA1MjE4MTQ5ODo6MDo6&url=%2FViewSonic-VA3456-MHDJ-Inch-Ergonomics-DisplayPort%2Fdp%2FB08TKGWGCW%2Fref%3Dsr_1_12_sspa%3Fkeywords%3Dultrawide%2Bmonitor%26qid%3D1695073633%26sr%3D8-12-spons%26sp_csd%3Dd2lkZ2V0TmFtZT1zcF9tdGY%26psc%3D1')\n",
      "('AOC CU34G3S 34\" Frameless Curved Ultrawide Gaming Monitor, WQHD 3440 x1440, 165Hz 1ms, FreeSync Premium, Height Adjustable, 3-Year Zero-Bright-dot, Black', '$422.99', '', '', 'https://www.amazon.com/AOC-CU34G3S-Frameless-Adjustable-Zero-Bright-dot/dp/B09ZNQX51B/ref=sr_1_13?keywords=ultrawide+monitor&qid=1695073633&sr=8-13')\n",
      "('SAMSUNG CJ79 Series 34-Inch ViewFinity Ultrawide QHD (3440x1440) Computer Monitor, 100Hz, Thunderbolt 3 Daisy Chain, QLED, HDMI, USB Hub, Height Adjustable Stand (LC34J791WTNXZA), White', '$499.99', '', '', 'https://www.amazon.com/Samsung-CJ791-Thunderbolt-Curved-Monitor/dp/B07CS3JB5K/ref=sr_1_14?keywords=ultrawide+monitor&qid=1695073633&sr=8-14')\n",
      "('LG 34WP60C-B 34-Inch 21:9 Curved UltraWide QHD (3440x1440) VA Display with sRGB 99% Color Gamut and HDR 10, AMD FreeSync Premium and 3-Side Virtually Borderless Screen Curved QHD Tilt,Black', '$399.99', '', '', 'https://www.amazon.com/LG-34WP60C-B-34-Inch-UltraWide-Borderless/dp/B09XTNY742/ref=sr_1_15?keywords=ultrawide+monitor&qid=1695073633&sr=8-15')\n",
      "('LG UltraWide QHD 34-Inch Curved Computer Monitor 34WQ73A-B, IPS with HDR 10 Compatibility, Built-In-KVM, and USB Type-C, Black', '$469.99', '', '', 'https://www.amazon.com/LG-UltraWide-Computer-34WQ73A-B-Compatibility/dp/B0B924GWLJ/ref=sr_1_16?keywords=ultrawide+monitor&qid=1695073633&sr=8-16')\n",
      "('ViewSonic VP3481a 34-Inch WQHD+ Curved Ultrawide USB C Monitor with FreeSync, 100Hz, ColorPro 100% sRGB Rec 709, 14-bit 3D LUT, Eye Care, 90W USB C, HDMI, DisplayPort for Home and Office,Black', '$599.99', '', '', 'https://www.amazon.com/sspa/click?ie=UTF8&spc=MTo3MzI3NzY0MTQ5NjI3NjI1OjE2OTUwNzM2MzM6c3BfbXRmOjIwMDEwNjU5Mjc0NTA5ODo6MDo6&url=%2FViewSonic-VP3481a-ColorPro-Blindness-Calibration%2Fdp%2FB08KRLDCYY%2Fref%3Dsr_1_17_sspa%3Fkeywords%3Dultrawide%2Bmonitor%26qid%3D1695073633%26sr%3D8-17-spons%26sp_csd%3Dd2lkZ2V0TmFtZT1zcF9tdGY%26psc%3D1')\n",
      "('PHILIPS 34E1C5600HE 34\" UltraWide QHD 21:9 Monitor with Built-in Windows Hello Webcam & Noise Canceling Mic, USB-C Docking, Stereo Speakers, 100Hz, 4-Year Advance Replacement', '$459.99', '', '', 'https://www.amazon.com/PHILIPS-34E1C5600HE-UltraWide-QHD-Built/dp/B0BQQ7H8TZ/ref=sr_1_18?keywords=ultrawide+monitor&qid=1695073633&sr=8-18')\n",
      "('LG 34WP65G-B UltraWide Monitor 34\" 21:9 FHD (2560 x 1080) IPS Display, VESA DisplayHDR 400, AMD FreeSync, Height and tilt Adjustable Stand - Black', '$346.99', '', '', 'https://www.amazon.com/LG-34WP65G-B-34-Inch-DisplayHDR-Adjustable/dp/B08RJ1BFJR/ref=sr_1_19?keywords=ultrawide+monitor&qid=1695073633&sr=8-19')\n",
      "('Fiodio 30in Curved Gaming Monitor 100Hz, Full HD 21:9 Ultrawide PC Computer Monitor Built-in Speakers, 2560 * 1080P HDMI DP Ports, VESA Wall Mount Ready 75 x 75mm (DP Cable Included)', '$197.99', '', '', 'https://www.amazon.com/Curved-Gaming-Monitor-Speakers-Included/dp/B088FT7ZMY/ref=sr_1_20?keywords=ultrawide+monitor&qid=1695073633&sr=8-20')\n",
      "('Sceptre 30-Class 29-inch IPS UltraWide Monitor 2560 x 1080 HDMI DisplayPort 119% sRGB up to 300 Lux Build-in Speakers, Machine Black (E300W-FUS)', '$179.97', '', '', 'https://www.amazon.com/Sceptre-UltraWide-DisplayPort-Speakers-E300W-FUS/dp/B09FNXHYCX/ref=sr_1_21?keywords=ultrawide+monitor&qid=1695073633&sr=8-21')\n",
      "('ViewSonic VX3276-MHD 32 Inch 1080p Widescreen IPS Monitor with Ultra-Thin Bezels, Screen Split Capability HDMI and DisplayPort', '$184.99', '', '', 'https://www.amazon.com/sspa/click?ie=UTF8&spc=MTo3MzI3NzY0MTQ5NjI3NjI1OjE2OTUwNzM2MzM6c3BfYnRmOjIwMDExMDA1MjE4NjE5ODo6MDo6&url=%2FViewSonic-VX3276-MHD-Frameless-Widescreen-DisplayPort%2Fdp%2FB0787WGCXT%2Fref%3Dsr_1_22_sspa%3Fkeywords%3Dultrawide%2Bmonitor%26qid%3D1695073633%26sr%3D8-22-spons%26sp_csd%3Dd2lkZ2V0TmFtZT1zcF9idGY%26psc%3D1')\n"
     ]
    }
   ],
   "source": [
    "for row in records:\n",
    "    print(row)"
   ]
  },
  {
   "cell_type": "code",
   "execution_count": 114,
   "id": "be78d9c2-f337-43bd-8d6c-ba84a4e140ce",
   "metadata": {},
   "outputs": [],
   "source": [
    "# getting the next page\n",
    "def get_ur1 (search_term):\n",
    "    \"\"\"Generate a url from search term\"\"\"\n",
    "    template = 'https://www.amazon.com/s?k=()&ref=nb_sb_noss_1'\n",
    "    search_term = search_term.replace\n",
    "    # add term Query to url\n",
    "    url = template.format(search_term)\n",
    "    # add page query placeholder\n",
    "    url+= '&page()'\n",
    "\n",
    "    return url"
   ]
  },
  {
   "cell_type": "code",
   "execution_count": 120,
   "id": "917fd8b5-ad63-4536-9bca-4a3fa670a721",
   "metadata": {},
   "outputs": [],
   "source": [
    "# putting it together\n",
    "# import libraries \n",
    "import csv\n",
    "from bs4 import BeautifulSoup\n",
    "from selenium import webdriver\n",
    "\n",
    "def get_url(search_term) :\n",
    "    \"\"\"Generate a url from search term\"\"\"\n",
    "    template = 'https://www.amazon.com/s?k={}&ref=nb_sb_noss_1'\n",
    "    search_term = search_term. replace(' ', '+')\n",
    "\n",
    "    # add term query to url \n",
    "    url = template.format(search_term)\n",
    "\n",
    "    # page query placeholder \n",
    "    url += '&page{}'\n",
    "\n",
    "    return url\n",
    "\n",
    "\n",
    "def extract_record(item) :\n",
    "    \"\"\"Extract and return data from a single record\"\"\"\n",
    "    # description and url\n",
    "    atag = item.h2.a\n",
    "    description = atag.text.strip()\n",
    "    url = 'https://www.amazon.com' + atag.get('href')\n",
    "    try:\n",
    "        # price\n",
    "        price_parent = item. find('span', 'a-price')\n",
    "        price = price_parent. find('span', 'a-offscreen' ).text\n",
    "    except AttributeError:\n",
    "        return\n",
    "    try:\n",
    "        # rank and rating\n",
    "        rating = item.i.text\n",
    "        review_count = item.find('span', {'class': 'a-size-base', 'dir': 'auto'}).text\n",
    "    except AttributeError:\n",
    "        rating = ''\n",
    "        review_count = ''\n",
    "    result = (description, price, rating, review_count, url)\n",
    "    return result \n",
    "\n",
    "\n",
    "def main(search_term):\n",
    "    # run main program routine\n",
    "    #startup webdriver\n",
    "    driver = webdriver.Chrome()\n",
    "    record=[]\n",
    "    url=get_url(search_term)\n",
    "\n",
    "    for page in range(1, 21):\n",
    "        driver.get(url.format (page))\n",
    "        soup = BeautifulSoup (driver.page_source, 'html.parser')\n",
    "        results = soup.find_all('div', {'data-component-type': 's-search-result'})\n",
    "        for item in results:\n",
    "            record = extract_record(item)\n",
    "            if record:\n",
    "                records.append(record)\n",
    "    driver.close()\n",
    "    # save data to csv file\n",
    "    with open('results.csv', 'w', newline='', encoding='utf-8') as f:\n",
    "        writer = csv.writer(f)\n",
    "        writer.writerow (['Description', 'Price', 'Rating', 'ReviewCount', 'Url'])\n",
    "        writer.writerows(records) "
   ]
  },
  {
   "cell_type": "code",
   "execution_count": null,
   "id": "2b741c5c-42e7-4ab9-9cc4-fa8a00b973f0",
   "metadata": {},
   "outputs": [],
   "source": [
    "main('ultrawide monitor')"
   ]
  },
  {
   "cell_type": "code",
   "execution_count": null,
   "id": "778e0eb1-a56d-4113-9b30-9870a8d04204",
   "metadata": {},
   "outputs": [],
   "source": []
  }
 ],
 "metadata": {
  "kernelspec": {
   "display_name": "Python 3 (ipykernel)",
   "language": "python",
   "name": "python3"
  },
  "language_info": {
   "codemirror_mode": {
    "name": "ipython",
    "version": 3
   },
   "file_extension": ".py",
   "mimetype": "text/x-python",
   "name": "python",
   "nbconvert_exporter": "python",
   "pygments_lexer": "ipython3",
   "version": "3.10.4"
  }
 },
 "nbformat": 4,
 "nbformat_minor": 5
}
